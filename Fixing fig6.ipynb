{
 "cells": [
  {
   "cell_type": "code",
   "execution_count": 26,
   "metadata": {},
   "outputs": [],
   "source": [
    "import numpy as np\n",
    "import pandas as pd\n",
    "import pickle\n",
    "from scipy.special import expit\n",
    "from scipy.stats import norm\n",
    "from scipy import stats\n",
    "from load_data import load_data\n",
    "from open_file import open_file\n",
    "import predict_score\n",
    "import matplotlib.pyplot as plt\n",
    "true = open_file(\"true_params.pkl\")\n",
    "self = open_file(\"self_params.pkl\")\n",
    "\n",
    "df = pd.read_csv(\"Exp2_Estimation.csv\")\n",
    "df_feedback = df[df.conditionshowFeedback == 0]\n",
    "data = load_data(df_feedback)\n",
    "I = data['I']\n",
    "J = data['J']\n",
    "df_self = data['df_self']\n",
    "v = data['v']\n",
    "data_other_true = data['data_other_true']\n",
    "idx = data['idx']\n",
    "\n",
    "a_self = self['a_self'][idx]\n",
    "d_other = self['d_self'][idx]\n",
    "sigma = self['sigma_self'][idx]\n",
    "Sim_OtherEst = np.zeros((I, J))\n",
    "delta = np.random.randn((I))\n",
    "a_other = np.zeros((I))\n",
    "K = 13\n"
   ]
  },
  {
   "cell_type": "code",
   "execution_count": 27,
   "metadata": {},
   "outputs": [
    {
     "data": {
      "text/plain": [
       "(array([ 1.,  0.,  0.,  0.,  0.,  0.,  0.,  0.,  0., 63.]),\n",
       " array([-230.9785929 , -207.75524009, -184.53188729, -161.30853448,\n",
       "        -138.08518167, -114.86182886,  -91.63847605,  -68.41512324,\n",
       "         -45.19177043,  -21.96841763,    1.25493518]),\n",
       " <BarContainer object of 10 artists>)"
      ]
     },
     "execution_count": 27,
     "metadata": {},
     "output_type": "execute_result"
    },
    {
     "data": {
      "image/png": "[encoded data removed]",
      "text/plain": [
       "<Figure size 432x288 with 1 Axes>"
      ]
     },
     "metadata": {
      "needs_background": "light"
     },
     "output_type": "display_data"
    }
   ],
   "source": [
    "# plt.hist(np.around(d_other, 1).flatten())\n",
    "# plt.plot()\n",
    "plt.hist((a_self).flatten())"
   ]
  },
  {
   "cell_type": "code",
   "execution_count": 24,
   "metadata": {},
   "outputs": [],
   "source": [
    "df = pd.read_csv(\"Exp2_Estimation.csv\")\n",
    "df_feedback = df[df.conditionshowFeedback == 1]\n",
    "data = load_data(df_feedback)\n",
    "I = data['I']\n",
    "J = data['J']\n",
    "df_self = data['df_self']\n",
    "v = data['v']\n",
    "data_other_true = data['data_other_true']\n",
    "idx = data['idx']\n",
    "\n",
    "a_self = self['a_self'][idx]\n",
    "d_other = self['d_self'][idx]\n",
    "sigma = self['sigma_self'][idx]\n",
    "Sim_OtherEst = np.zeros((I, J))\n"
   ]
  },
  {
   "cell_type": "code",
   "execution_count": 25,
   "metadata": {},
   "outputs": [
    {
     "data": {
      "text/plain": [
       "(array([ 2.,  0.,  4.,  8., 18., 17.,  8.,  4.,  1.,  2.]),\n",
       " array([-1.39435992, -1.13354647, -0.87273303, -0.61191958, -0.35110614,\n",
       "        -0.09029269,  0.17052075,  0.4313342 ,  0.69214764,  0.95296109,\n",
       "         1.21377454]),\n",
       " <BarContainer object of 10 artists>)"
      ]
     },
     "execution_count": 25,
     "metadata": {},
     "output_type": "execute_result"
    },
    {
     "data": {
      "image/png": "[encoded data removed]",
      "text/plain": [
       "<Figure size 432x288 with 1 Axes>"
      ]
     },
     "metadata": {
      "needs_background": "light"
     },
     "output_type": "display_data"
    }
   ],
   "source": [
    "plt.hist((a_self).flatten())"
   ]
  },
  {
   "cell_type": "code",
   "execution_count": 34,
   "metadata": {},
   "outputs": [
    {
     "data": {
      "text/plain": [
       "(array([ 21., 201., 274., 354., 382., 315., 223., 129.,  92.,  57.]),\n",
       " array([ 0. ,  1.1,  2.2,  3.3,  4.4,  5.5,  6.6,  7.7,  8.8,  9.9, 11. ]),\n",
       " <BarContainer object of 10 artists>)"
      ]
     },
     "execution_count": 34,
     "metadata": {},
     "output_type": "execute_result"
    },
    {
     "data": {
      "image/png": "[encoded data removed]",
      "text/plain": [
       "<Figure size 432x288 with 1 Axes>"
      ]
     },
     "metadata": {
      "needs_background": "light"
     },
     "output_type": "display_data"
    }
   ],
   "source": [
    "plt.hist(self['Sim_Y'].flatten())"
   ]
  },
  {
   "cell_type": "code",
   "execution_count": 37,
   "metadata": {},
   "outputs": [
    {
     "data": {
      "text/plain": [
       "(array([1., 0., 0., 2., 1., 1., 6., 1., 2., 2.]),\n",
       " array([-1.71436725, -1.46333732, -1.21230739, -0.96127746, -0.71024753,\n",
       "        -0.4592176 , -0.20818767,  0.04284226,  0.29387219,  0.54490212,\n",
       "         0.79593205]),\n",
       " <BarContainer object of 10 artists>)"
      ]
     },
     "execution_count": 37,
     "metadata": {},
     "output_type": "execute_result"
    },
    {
     "data": {
      "image/png": "[encoded data removed]",
      "text/plain": [
       "<Figure size 432x288 with 1 Axes>"
      ]
     },
     "metadata": {
      "needs_background": "light"
     },
     "output_type": "display_data"
    }
   ],
   "source": [
    "plt.hist(true['d_true'].flatten())"
   ]
  },
  {
   "cell_type": "code",
   "execution_count": 45,
   "metadata": {},
   "outputs": [],
   "source": [
    "df_nf = open_file(\"hyp3-nofeedback/hyp3_nofeedback.pkl\")\n",
    "df_f = open_file(\"hyp3-feedback/hyp3_feedback.pkl\")\n"
   ]
  },
  {
   "cell_type": "code",
   "execution_count": 46,
   "metadata": {},
   "outputs": [
    {
     "data": {
      "text/plain": [
       "(array([ 67.,  77., 121., 145., 139., 272.,  80.,  45.,  34.,  44.]),\n",
       " array([ 0. ,  1.2,  2.4,  3.6,  4.8,  6. ,  7.2,  8.4,  9.6, 10.8, 12. ]),\n",
       " <BarContainer object of 10 artists>)"
      ]
     },
     "execution_count": 46,
     "metadata": {},
     "output_type": "execute_result"
    },
    {
     "data": {
      "image/png": "[encoded data removed]",
      "text/plain": [
       "<Figure size 432x288 with 1 Axes>"
      ]
     },
     "metadata": {
      "needs_background": "light"
     },
     "output_type": "display_data"
    }
   ],
   "source": [
    "plt.hist(df_nf['Sim_OtherEst'].flatten())\n",
    "plt.hist(df_f['Sim_OtherEst'].flatten(), alpha = .5)"
   ]
  },
  {
   "cell_type": "code",
   "execution_count": 49,
   "metadata": {},
   "outputs": [
    {
     "data": {
      "text/plain": [
       "(array([ 47.,  59.,  62., 109., 105., 263., 127.,  90.,  66.,  96.]),\n",
       " array([ 0. ,  1.2,  2.4,  3.6,  4.8,  6. ,  7.2,  8.4,  9.6, 10.8, 12. ]),\n",
       " <BarContainer object of 10 artists>)"
      ]
     },
     "execution_count": 49,
     "metadata": {},
     "output_type": "execute_result"
    },
    {
     "data": {
      "image/png": "[encoded data removed]",
      "text/plain": [
       "<Figure size 432x288 with 1 Axes>"
      ]
     },
     "metadata": {
      "needs_background": "light"
     },
     "output_type": "display_data"
    }
   ],
   "source": [
    "df_nf = open_file(\"hyp2-nofeedback/hyp2_nofeedback.pkl\")\n",
    "df_f = open_file(\"hyp2-feedback/hyp2_feedback64.pkl\")\n",
    "plt.hist(df_nf['Sim_OtherEst'].flatten())\n",
    "plt.hist(df_f['Sim_OtherEst'].flatten(), alpha = .5)"
   ]
  },
  {
   "cell_type": "code",
   "execution_count": 50,
   "metadata": {},
   "outputs": [
    {
     "data": {
      "text/plain": [
       "(array([135.,  55.,  67.,  96.,  81., 172.,  79.,  87.,  79., 173.]),\n",
       " array([ 0. ,  1.2,  2.4,  3.6,  4.8,  6. ,  7.2,  8.4,  9.6, 10.8, 12. ]),\n",
       " <BarContainer object of 10 artists>)"
      ]
     },
     "execution_count": 50,
     "metadata": {},
     "output_type": "execute_result"
    },
    {
     "data": {
      "image/png": "[encoded data removed]",
      "text/plain": [
       "<Figure size 432x288 with 1 Axes>"
      ]
     },
     "metadata": {
      "needs_background": "light"
     },
     "output_type": "display_data"
    }
   ],
   "source": [
    "df_nf = open_file(\"hyp1-nofeedback/hyp1_nofeedback.pkl\")\n",
    "df_f = open_file(\"hyp1-feedback/hyp1_feedback64.pkl\")\n",
    "plt.hist(df_nf['Sim_OtherEst'].flatten())\n",
    "plt.hist(df_f['Sim_OtherEst'].flatten(), alpha = .5)"
   ]
  },
  {
   "cell_type": "code",
   "execution_count": 51,
   "metadata": {},
   "outputs": [
    {
     "data": {
      "text/plain": [
       "(array([ 25.,  40.,  78., 107., 124., 256., 105., 102.,  84., 103.]),\n",
       " array([ 0. ,  1.2,  2.4,  3.6,  4.8,  6. ,  7.2,  8.4,  9.6, 10.8, 12. ]),\n",
       " <BarContainer object of 10 artists>)"
      ]
     },
     "execution_count": 51,
     "metadata": {},
     "output_type": "execute_result"
    },
    {
     "data": {
      "image/png": "[encoded data removed]",
      "text/plain": [
       "<Figure size 432x288 with 1 Axes>"
      ]
     },
     "metadata": {
      "needs_background": "light"
     },
     "output_type": "display_data"
    }
   ],
   "source": [
    "df = pd.read_csv(\"Exp2_Estimation.csv\")\n",
    "df_feedback = df[df.conditionshowFeedback == 1]\n",
    "data = load_data(df_feedback)\n",
    "data_self_true_1 = data['data_self_true']\n",
    "\n",
    "df = pd.read_csv(\"Exp2_Estimation.csv\")\n",
    "df_feedback = df[df.conditionshowFeedback == 0]\n",
    "data = load_data(df_feedback)\n",
    "data_self_true_0 = data['data_self_true']\n",
    "\n",
    "\n",
    "plt.hist(data_self_true_0.flatten())\n",
    "plt.hist(data_self_true_1.flatten(), alpha = .5)"
   ]
  },
  {
   "cell_type": "code",
   "execution_count": 52,
   "metadata": {},
   "outputs": [
    {
     "data": {
      "text/plain": [
       "(array([ 29.,  62., 117., 198., 170., 131., 148.,  69.,  60.,  40.]),\n",
       " array([ 1. ,  2.1,  3.2,  4.3,  5.4,  6.5,  7.6,  8.7,  9.8, 10.9, 12. ]),\n",
       " <BarContainer object of 10 artists>)"
      ]
     },
     "execution_count": 52,
     "metadata": {},
     "output_type": "execute_result"
    },
    {
     "data": {
      "image/png": "[encoded data removed]",
      "text/plain": [
       "<Figure size 432x288 with 1 Axes>"
      ]
     },
     "metadata": {
      "needs_background": "light"
     },
     "output_type": "display_data"
    }
   ],
   "source": [
    "df = pd.read_csv(\"Exp2_Estimation.csv\")\n",
    "df_feedback = df[df.conditionshowFeedback == 1]\n",
    "data = load_data(df_feedback)\n",
    "data_self_est = data['data_self_est']\n",
    "data_other_est = data['data_other_est']\n",
    "\n",
    "\n",
    "plt.hist(data_self_est.flatten())\n",
    "plt.hist(data_other_est.flatten(), alpha = .5)"
   ]
  },
  {
   "cell_type": "code",
   "execution_count": 53,
   "metadata": {},
   "outputs": [
    {
     "data": {
      "text/plain": [
       "(array([ 20.,  49., 107., 155., 157., 284., 106.,  63.,  49.,  34.]),\n",
       " array([ 0. ,  1.2,  2.4,  3.6,  4.8,  6. ,  7.2,  8.4,  9.6, 10.8, 12. ]),\n",
       " <BarContainer object of 10 artists>)"
      ]
     },
     "execution_count": 53,
     "metadata": {},
     "output_type": "execute_result"
    },
    {
     "data": {
      "image/png": "[encoded data removed]",
      "text/plain": [
       "<Figure size 432x288 with 1 Axes>"
      ]
     },
     "metadata": {
      "needs_background": "light"
     },
     "output_type": "display_data"
    }
   ],
   "source": [
    "df = pd.read_csv(\"Exp2_Estimation.csv\")\n",
    "df_feedback = df[df.conditionshowFeedback == 0]\n",
    "data = load_data(df_feedback)\n",
    "data_self_est = data['data_self_est']\n",
    "data_other_est = data['data_other_est']\n",
    "\n",
    "\n",
    "plt.hist(data_self_est.flatten())\n",
    "plt.hist(data_other_est.flatten(), alpha = .5)"
   ]
  },
  {
   "cell_type": "code",
   "execution_count": 55,
   "metadata": {},
   "outputs": [
    {
     "data": {
      "text/plain": [
       "array([ 6.0625,  2.5625,  5.875 ,  4.0625,  9.6875,  0.375 ,  8.375 ,\n",
       "        4.75  ,  3.875 ,  6.125 ,  5.5625, 10.5   ,  4.875 ,  6.9375,\n",
       "        3.4375,  6.125 ,  5.1875,  5.75  ,  4.125 ,  5.25  ,  7.0625,\n",
       "        1.875 ,  3.25  ,  1.5   ,  4.25  ,  6.9375,  3.5625,  4.4375,\n",
       "        1.9375,  2.4375,  7.0625,  7.0625,  8.125 ,  3.4375,  3.75  ,\n",
       "        8.3125,  4.9375,  5.6875,  4.75  ,  8.75  ,  7.6875,  9.5   ,\n",
       "        9.1875,  2.5   ,  2.125 , 10.375 ,  6.8125,  4.    ,  2.3125,\n",
       "        3.125 ,  4.9375,  4.4375,  5.4375,  6.25  ,  5.375 ,  4.375 ,\n",
       "        3.4375,  2.875 ,  4.9375,  5.8125,  2.125 , 11.125 ,  2.25  ,\n",
       "        7.0625])"
      ]
     },
     "execution_count": 55,
     "metadata": {},
     "output_type": "execute_result"
    }
   ],
   "source": [
    "df_nf = open_file(\"hyp2-nofeedback/hyp2_nofeedback.pkl\")\n",
    "df_f = open_file(\"hyp2-feedback/hyp2_feedback64.pkl\")\n",
    "\n",
    "df_nf['Sim_OtherEst'].mean(1)"
   ]
  },
  {
   "cell_type": "code",
   "execution_count": 56,
   "metadata": {},
   "outputs": [
    {
     "data": {
      "text/plain": [
       "array([0., 0., 0., 0., 0., 1., 0., 0., 0., 0., 2., 2., 0., 1., 0., 0.])"
      ]
     },
     "execution_count": 56,
     "metadata": {},
     "output_type": "execute_result"
    }
   ],
   "source": [
    "df_nf['Sim_OtherEst'][5]"
   ]
  },
  {
   "cell_type": "code",
   "execution_count": 68,
   "metadata": {},
   "outputs": [
    {
     "data": {
      "text/plain": [
       "-230.97859290308105"
      ]
     },
     "execution_count": 68,
     "metadata": {},
     "output_type": "execute_result"
    }
   ],
   "source": [
    "self['a_self'].min()"
   ]
  },
  {
   "cell_type": "code",
   "execution_count": 60,
   "metadata": {},
   "outputs": [
    {
     "data": {
      "text/plain": [
       "array([ 0.32129959, -0.31393644,  0.64775262,  0.48724785,  0.28269679,\n",
       "        0.5057836 ,  0.28452357,  0.28109039,  0.01645169,  0.63934602,\n",
       "        0.37571447,  0.3219574 ,  0.31012781,  0.24817665,  0.05661036,\n",
       "        0.09642001])"
      ]
     },
     "execution_count": 60,
     "metadata": {},
     "output_type": "execute_result"
    }
   ],
   "source": [
    "self['d_self'][14]"
   ]
  },
  {
   "cell_type": "code",
   "execution_count": null,
   "metadata": {},
   "outputs": [],
   "source": []
  },
  {
   "cell_type": "code",
   "execution_count": 57,
   "metadata": {},
   "outputs": [],
   "source": [
    "\n",
    "df = pd.read_csv(\"Exp2_Estimation.csv\")\n",
    "df_feedback = df[df.conditionshowFeedback == 0]\n",
    "data = load_data(df_feedback)\n",
    "idx = data['idx']"
   ]
  },
  {
   "cell_type": "code",
   "execution_count": 58,
   "metadata": {},
   "outputs": [
    {
     "data": {
      "text/plain": [
       "array([  3,   7,   8,  12,  14,  15,  17,  21,  23,  24,  25,  27,  31,\n",
       "        34,  37,  39,  40,  41,  43,  44,  46,  47,  48,  49,  51,  56,\n",
       "        57,  58,  60,  61,  62,  63,  64,  65,  67,  72,  73,  74,  76,\n",
       "        77,  78,  79,  83,  87,  88,  92,  94,  95,  97,  98, 103, 104,\n",
       "       105, 106, 108, 110, 111, 113, 116, 120, 122, 123, 125, 127])"
      ]
     },
     "execution_count": 58,
     "metadata": {},
     "output_type": "execute_result"
    }
   ],
   "source": [
    "idx"
   ]
  },
  {
   "cell_type": "code",
   "execution_count": null,
   "metadata": {},
   "outputs": [],
   "source": []
  }
 ],
 "metadata": {
  "kernelspec": {
   "display_name": "Python 3",
   "language": "python",
   "name": "python3"
  },
  "language_info": {
   "codemirror_mode": {
    "name": "ipython",
    "version": 3
   },
   "file_extension": ".py",
   "mimetype": "text/x-python",
   "name": "python",
   "nbconvert_exporter": "python",
   "pygments_lexer": "ipython3",
   "version": "3.8.5"
  }
 },
 "nbformat": 4,
 "nbformat_minor": 4
}
